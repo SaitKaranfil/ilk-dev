{
  "nbformat": 4,
  "nbformat_minor": 0,
  "metadata": {
    "colab": {
      "provenance": [],
      "collapsed_sections": []
    },
    "kernelspec": {
      "name": "python3",
      "display_name": "Python 3"
    },
    "language_info": {
      "name": "python"
    }
  },
  "cells": [
    {
      "cell_type": "code",
      "execution_count": null,
      "metadata": {
        "id": "5a5n48xOSnh0"
      },
      "outputs": [],
      "source": [
        "def prime_number(num):\n",
        "  while num<2 and num==2 and num%2 ==0:\n",
        "    return False\n",
        "  for a in range(3,int(num//2),2):\n",
        "    while (num%a==0):\n",
        "      return False\n",
        "  return True"
      ]
    }
  ]
}