{
  "nbformat": 4,
  "nbformat_minor": 0,
  "metadata": {
    "colab": {
      "provenance": []
    },
    "kernelspec": {
      "name": "python3",
      "display_name": "Python 3"
    },
    "language_info": {
      "name": "python"
    }
  },
  "cells": [
    {
      "cell_type": "code",
      "execution_count": null,
      "metadata": {
        "id": "FZ6gj1px-Mlp"
      },
      "outputs": [],
      "source": [
        "president_heights=pd.read_csv('president_heights.csv')\n",
        "print(\"En uzun başkanın numarası : \" ,np.argmax(president_heights['height(cm)']))\n",
        "print(\"En uzun başkanın boyu : \" ,np.max(president_heights['height(cm)']))\n",
        "print(\"En uzun başkanın ismi : \" ,np.max(president_heights['name']))\n",
        "print(\"En kısa başkanın numarası : \" ,np.argmin(president_heights['height(cm)']))\n",
        "print(\"En kısa başkanın boyu : \" ,np.min(president_heights['height(cm)']))\n",
        "print(\"En kısa başkanın ismi : \" ,np.min(president_heights['name']))"
      ]
    }
  ]
}