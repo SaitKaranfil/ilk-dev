{
  "nbformat": 4,
  "nbformat_minor": 0,
  "metadata": {
    "colab": {
      "provenance": []
    },
    "kernelspec": {
      "name": "python3",
      "display_name": "Python 3"
    },
    "language_info": {
      "name": "python"
    }
  },
  "cells": [
    {
      "cell_type": "code",
      "execution_count": null,
      "metadata": {
        "id": "b_YmHcHjvDTx"
      },
      "outputs": [],
      "source": [
        "for i in range(3,500):\n",
        "    bolundu = False\n",
        "    for j in range(2,i):\n",
        "            if i % j == 0:\n",
        "                bolundu=True\n",
        "                # break yok...\n",
        "    if bolundu == False:\n",
        "        print (i)"
      ]
    }
  ]
}